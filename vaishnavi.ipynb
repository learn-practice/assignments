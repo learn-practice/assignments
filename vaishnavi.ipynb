{
 "cells": [
  {
   "cell_type": "code",
   "execution_count": 1,
   "id": "4ba83153",
   "metadata": {},
   "outputs": [
    {
     "name": "stdout",
     "output_type": "stream",
     "text": [
      "enter base of triangle::2.5\n",
      "enter height ofn triangle::3.5\n",
      "area of triangle:: 4.375\n"
     ]
    }
   ],
   "source": [
    "#python program to calculate the are of a triangle\n",
    "base=float(input(\"enter base of triangle::\"))  #accepting base value from user\n",
    "height=float(input(\"enter height ofn triangle::\"))#acceptting height of triangle\n",
    "area=1/2*height*base  #calculating area of triangle using formula\n",
    "print(\"area of triangle::\",area)"
   ]
  },
  {
   "cell_type": "code",
   "execution_count": 2,
   "id": "c119a81f",
   "metadata": {},
   "outputs": [
    {
     "name": "stdout",
     "output_type": "stream",
     "text": [
      "enter number first::12\n",
      "enter number second:23\n",
      "number before swap first= 12 second= 23\n",
      "numbers after swap first= 23 second= 12\n"
     ]
    }
   ],
   "source": [
    "#python program to swap two variable\n",
    "number1=int(input(\"enter number first::\"))#accepting a number\n",
    "number2=int(input(\"enter number second:\"))\n",
    "print(\"number before swap first=\",number1,\"second=\",number2)#printing number before swap\n",
    "temp=number1\n",
    "number1=number2\n",
    "number2=temp\n",
    "print(\"numbers after swap first=\",number1,\"second=\",number2)#printing number after swap"
   ]
  },
  {
   "cell_type": "code",
   "execution_count": 3,
   "id": "45bef3a7",
   "metadata": {},
   "outputs": [
    {
     "name": "stdout",
     "output_type": "stream",
     "text": [
      "87\n"
     ]
    }
   ],
   "source": [
    "#python program to generate a random number\n",
    "import random \n",
    "print(random.randint(0,100))"
   ]
  },
  {
   "cell_type": "code",
   "execution_count": 4,
   "id": "4800870b",
   "metadata": {},
   "outputs": [
    {
     "name": "stdout",
     "output_type": "stream",
     "text": [
      "enter number::-15\n",
      "number is negative\n"
     ]
    }
   ],
   "source": [
    "#write a python program to check if a number is positive negative or zero\n",
    "n=int(input(\"enter number::\"))#accepting a number\n",
    "if(n<0):\n",
    "    print(\"number is negative\")\n",
    "elif(n>0):\n",
    "    print(\"number is positive\")\n",
    "else:\n",
    "    print(\"number is zero\")"
   ]
  },
  {
   "cell_type": "code",
   "execution_count": 5,
   "id": "078c32c7",
   "metadata": {},
   "outputs": [
    {
     "name": "stdout",
     "output_type": "stream",
     "text": [
      "enter number::12\n",
      "number is even\n"
     ]
    }
   ],
   "source": [
    "#write a python program to check if a number is odd or even\n",
    "n=int(input(\"enter number::\"))\n",
    "if(n%2==0):\n",
    "    print(\"number is even\")\n",
    "else:\n",
    "    print(\"number is odd\")"
   ]
  },
  {
   "cell_type": "code",
   "execution_count": 9,
   "id": "4e0b559b",
   "metadata": {},
   "outputs": [
    {
     "name": "stdout",
     "output_type": "stream",
     "text": [
      "enter number::5\n",
      "number is prime\n"
     ]
    }
   ],
   "source": [
    "#write python program to check prime number\n",
    "n=int(input(\"enter number::\"))\n",
    "flag=0\n",
    "for i in range(2,n):\n",
    "    if(n%i==0):\n",
    "        flag=1;\n",
    "        break\n",
    "if(flag==0):\n",
    "    print(\"number is prime\")\n",
    "else:\n",
    "    print(\"number is not prime\")"
   ]
  },
  {
   "cell_type": "code",
   "execution_count": 11,
   "id": "a72ccdde",
   "metadata": {},
   "outputs": [
    {
     "name": "stdout",
     "output_type": "stream",
     "text": [
      "enter number::153\n",
      "sum= 153\n",
      "number is armstrong\n"
     ]
    }
   ],
   "source": [
    "#write a python program to check armstrong number\n",
    "n=int(input(\"enter number::\"))\n",
    "n1=n\n",
    "sum=0\n",
    "while n>0:\n",
    "    p=n%10\n",
    "    sum=sum+(p*p*p)\n",
    "    n=n//10\n",
    "print(\"sum=\",sum)\n",
    "if(sum==n1):\n",
    "    print(\"number is armstrong\")\n",
    "else:\n",
    "    print(\"number is not armstrong\")"
   ]
  },
  {
   "cell_type": "code",
   "execution_count": 12,
   "id": "54c10ca3",
   "metadata": {},
   "outputs": [
    {
     "name": "stdout",
     "output_type": "stream",
     "text": [
      "enter number::5\n",
      "factorial of given number is:: 120\n"
     ]
    }
   ],
   "source": [
    "#write a python to find the factorial of a number\n",
    "n=int(input(\"enter number::\"))\n",
    "f=1\n",
    "for i in range(1,n+1):\n",
    "    f=f*i;\n",
    "print(\"factorial of given number is::\",f)"
   ]
  },
  {
   "cell_type": "code",
   "execution_count": null,
   "id": "5da4fa56",
   "metadata": {},
   "outputs": [],
   "source": []
  },
  {
   "cell_type": "markdown",
   "id": "dded2f80",
   "metadata": {},
   "source": [
    "# assignment2"
   ]
  },
  {
   "cell_type": "markdown",
   "id": "08fa9d7b",
   "metadata": {},
   "source": []
  }
 ],
 "metadata": {
  "kernelspec": {
   "display_name": "Python 3 (ipykernel)",
   "language": "python",
   "name": "python3"
  },
  "language_info": {
   "codemirror_mode": {
    "name": "ipython",
    "version": 3
   },
   "file_extension": ".py",
   "mimetype": "text/x-python",
   "name": "python",
   "nbconvert_exporter": "python",
   "pygments_lexer": "ipython3",
   "version": "3.9.12"
  }
 },
 "nbformat": 4,
 "nbformat_minor": 5
}
