{
 "cells": [
  {
   "cell_type": "code",
   "execution_count": 1,
   "id": "d1f74cf3",
   "metadata": {},
   "outputs": [
    {
     "name": "stdout",
     "output_type": "stream",
     "text": [
      "enter string::nitin\n",
      "string is palindrom\n",
      "not symmetric\n"
     ]
    }
   ],
   "source": [
    "#write a python program to check whether the string is symmetric or palindrome\n",
    "string=input(\"enter string::\")\n",
    "if(string==string[::-1]):\n",
    "    print(\"string is palindrom\")\n",
    "else:\n",
    "    print(\"string is not palindrom\")\n",
    "n=len(string)\n",
    "flag=0\n",
    "if n%2==0:\n",
    "    i=0\n",
    "    i=n//2\n",
    "    while i<n//2 and j<n:\n",
    "        if s[i]==s[j]:\n",
    "            i=i+1\n",
    "            j=j+1\n",
    "        else:\n",
    "            flag=1\n",
    "        break\n",
    "else:\n",
    "    flag=1\n",
    "if(flag==0):\n",
    "    print(\"symmetric\")\n",
    "else:\n",
    "    print(\"not symmetric\")"
   ]
  },
  {
   "cell_type": "code",
   "execution_count": 19,
   "id": "8e9fcc2c",
   "metadata": {},
   "outputs": [
    {
     "name": "stdout",
     "output_type": "stream",
     "text": [
      "si eman ym\n"
     ]
    }
   ],
   "source": [
    "#write a python program to reverse words in a string\n",
    "string=\"my name is\"\n",
    "print(string[::-1])\n",
    "   \n",
    "    "
   ]
  },
  {
   "cell_type": "code",
   "execution_count": 28,
   "id": "75d5553b",
   "metadata": {},
   "outputs": [
    {
     "name": "stdout",
     "output_type": "stream",
     "text": [
      "enter string::rbnb college shrirampur\n",
      "enter index to remove::9\n",
      "rbnb colege shrirampur\n"
     ]
    }
   ],
   "source": [
    "#write a python program to remove i'th charecter from string\n",
    "string=input (\"enter string::\")\n",
    "index_position=int(input(\"enter index to remove::\"))\n",
    "print(string[:index_position-1],end=\"\")\n",
    "\n",
    "print(string[index_position:])"
   ]
  },
  {
   "cell_type": "code",
   "execution_count": 30,
   "id": "2a59f58f",
   "metadata": {},
   "outputs": [
    {
     "name": "stdout",
     "output_type": "stream",
     "text": [
      "enter first number::12\n",
      "enter second number::9\n",
      "enter third number::6\n",
      "maximum number is:: 12\n"
     ]
    }
   ],
   "source": [
    "#write a python function to find the max of three number\n",
    "def max(a,b,c):\n",
    "    if(a>b):\n",
    "        if(a>c):\n",
    "            print(\"maximum number is::\",a)\n",
    "        else:\n",
    "            print(\"maximun number is::\",c)\n",
    "    elif(b>c):\n",
    "        print(\"maximum number is::\",b)\n",
    "    else:\n",
    "        print(\"maximum number is::\",c)\n",
    "first_number=int (input(\"enter first number::\"))\n",
    "second_number=int(input(\"enter second number::\"))\n",
    "third_number=int(input(\"enter third number::\"))\n",
    "max(first_number,second_number,third_number)\n",
    "        "
   ]
  },
  {
   "cell_type": "code",
   "execution_count": 32,
   "id": "24f7370c",
   "metadata": {},
   "outputs": [
    {
     "name": "stdout",
     "output_type": "stream",
     "text": [
      "sum of all number in list is:: 29\n"
     ]
    }
   ],
   "source": [
    "#write a python function to sum all the number in list\n",
    "def sum_list(list):\n",
    "    sum=0\n",
    "    for i in list:\n",
    "        sum=sum+i\n",
    "    print(\"sum of all number in list is::\",sum)\n",
    "list=[2,4,6,8,3,6]\n",
    "sum_list(list)"
   ]
  },
  {
   "cell_type": "code",
   "execution_count": 48,
   "id": "9b4a0617",
   "metadata": {},
   "outputs": [
    {
     "name": "stdout",
     "output_type": "stream",
     "text": [
      "enter string::rbnb college shrirampur\n",
      "shrirampurcollegerbnb\n"
     ]
    }
   ],
   "source": [
    "#write a python program to reverse string \n",
    "def reverse_string(string):\n",
    "    word=string.split(\" \")\n",
    "    sentence=\"\"\n",
    "    for i in word:\n",
    "        sentence=i+sentence\n",
    "    \n",
    "    print(sentence)\n",
    "string=input(\"enter string::\")\n",
    "reverse_string(string)\n"
   ]
  },
  {
   "cell_type": "code",
   "execution_count": 1,
   "id": "dc3ce839",
   "metadata": {},
   "outputs": [
    {
     "name": "stdout",
     "output_type": "stream",
     "text": [
      "enter string::a book of python programing\n",
      "book of python programing "
     ]
    }
   ],
   "source": [
    "#set B\n",
    "#write a python program to print even lenght words in  a string\n",
    "string=input(\"enter string::\")\n",
    "words=string.split(\" \")\n",
    "for word in words:\n",
    "    if(len(word)%2==0):\n",
    "        print(word,end=\" \")\n"
   ]
  },
  {
   "cell_type": "code",
   "execution_count": 3,
   "id": "1a0b6efe",
   "metadata": {},
   "outputs": [
    {
     "name": "stdout",
     "output_type": "stream",
     "text": [
      "enter string ::aouie\n",
      "string is accepted \n"
     ]
    }
   ],
   "source": [
    "#write python program to accept the strings which contains all vowels\n",
    "string=input(\"enter string ::\")\n",
    "if('a' in string and 'e' in string and 'i' in string and 'o' in string and 'u' in string):\n",
    "    print(\"string is accepted \")\n",
    "else:\n",
    "    print(\"string is not accepted\")"
   ]
  },
  {
   "cell_type": "code",
   "execution_count": 5,
   "id": "3e6825cd",
   "metadata": {},
   "outputs": [
    {
     "name": "stdout",
     "output_type": "stream",
     "text": [
      "enter first string::first\n",
      "enter second string::second\n",
      "number of charecter same= 6\n"
     ]
    }
   ],
   "source": [
    "#write a python program to count the number of matching charecters in a pair of string\n",
    "first_string=input(\"enter first string::\")\n",
    "second_string=input(\"enter second string::\")\n",
    "match=set([])\n",
    "for ch in (first_string):\n",
    "\n",
    "    for ch in (second_string):\n",
    "        match.add(ch)\n",
    "print(\"number of charecter same=\",len(match))"
   ]
  },
  {
   "cell_type": "code",
   "execution_count": 11,
   "id": "3dfd3421",
   "metadata": {},
   "outputs": [
    {
     "name": "stdout",
     "output_type": "stream",
     "text": [
      "enter the element of list::\n",
      "[1]\n"
     ]
    }
   ],
   "source": [
    "#write a python function that takes a list and return a new list with unique elements of the first list\n",
    "def unique_list(l):\n",
    "    x=[]\n",
    "    for a in l:\n",
    "        if a not in x:\n",
    "            x.append(a)\n",
    "        return x\n",
    "print(\"enter the element of list::\")\n",
    "print(unique_list([1,3,3,5,1,1,4,6]))\n"
   ]
  },
  {
   "cell_type": "code",
   "execution_count": 17,
   "id": "bcb462ea",
   "metadata": {},
   "outputs": [
    {
     "name": "stdout",
     "output_type": "stream",
     "text": [
      "enter number::6\n",
      "number is not prime\n"
     ]
    }
   ],
   "source": [
    "#write a python function that takes a number as a parameter and check the number is prime or not \n",
    "def is_prime(n):\n",
    "    flag=0\n",
    "    for i in range(2,n):\n",
    "        if n%i==0:\n",
    "            flag=1\n",
    "            return 1\n",
    "    return 0\n",
    "        \n",
    "n=int(input(\"enter number::\"))\n",
    "variable=is_prime(n)\n",
    "if(variable==0):\n",
    "    print(\"number is prime\")\n",
    "else:\n",
    "    print(\"number is not prime\")"
   ]
  },
  {
   "cell_type": "code",
   "execution_count": 20,
   "id": "57b28b53",
   "metadata": {},
   "outputs": [
    {
     "name": "stdout",
     "output_type": "stream",
     "text": [
      "enter number::6\n",
      "number is perfect\n"
     ]
    }
   ],
   "source": [
    "#write a python progarm to check whether a number is perfect or not\n",
    "def is_perfect(n):\n",
    "    sum=0\n",
    "    for i in range(1,n):\n",
    "        if n%i==0:\n",
    "            sum=sum+i\n",
    "    return sum\n",
    "n=int(input(\"enter number::\"))\n",
    "sum_of=is_perfect(n)\n",
    "if(sum_of==n):\n",
    "    print(\"number is perfect\")\n",
    "else:\n",
    "    print(\"number is not perfect \")\n",
    "\n",
    "            "
   ]
  }
 ],
 "metadata": {
  "kernelspec": {
   "display_name": "Python 3 (ipykernel)",
   "language": "python",
   "name": "python3"
  },
  "language_info": {
   "codemirror_mode": {
    "name": "ipython",
    "version": 3
   },
   "file_extension": ".py",
   "mimetype": "text/x-python",
   "name": "python",
   "nbconvert_exporter": "python",
   "pygments_lexer": "ipython3",
   "version": "3.9.12"
  }
 },
 "nbformat": 4,
 "nbformat_minor": 5
}
