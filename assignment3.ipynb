{
 "cells": [
  {
   "cell_type": "code",
   "execution_count": 1,
   "id": "d370b4a1",
   "metadata": {},
   "outputs": [
    {
     "name": "stdout",
     "output_type": "stream",
     "text": [
      "sum of list :: 90\n"
     ]
    }
   ],
   "source": [
    "#write a program to  sum all the items in a list\n",
    "list=[1,3,65,7,3,2,9]\n",
    "sum=0\n",
    "for i in list:\n",
    "    sum=sum+i\n",
    "print(\"sum of list ::\",sum)"
   ]
  },
  {
   "cell_type": "code",
   "execution_count": 2,
   "id": "17e891a7",
   "metadata": {},
   "outputs": [
    {
     "name": "stdout",
     "output_type": "stream",
     "text": [
      "sum of list :: 73710\n"
     ]
    }
   ],
   "source": [
    "#write a python program to multiplies all the items in a list\n",
    "list=[1,3,65,7,3,2,9]\n",
    "mul=1\n",
    "for i in list:\n",
    "    mul=mul*i\n",
    "print(\"sum of list ::\",mul)"
   ]
  },
  {
   "cell_type": "code",
   "execution_count": 1,
   "id": "1652ca16",
   "metadata": {},
   "outputs": [
    {
     "name": "stdout",
     "output_type": "stream",
     "text": [
      "[(1, 2), (4, 2), (6, 2), (2, 5), (3, 5)]\n"
     ]
    }
   ],
   "source": [
    "#write a python program to get a list ,sorted in increasing order by the last element in each tuple from a given list of non-empty tuple\n",
    "def last(n):\n",
    "    return n[-1]\n",
    "def sort_list_last(tuples):\n",
    "    return sorted(tuples,key=last)\n",
    "print(sort_list_last([(2,5),(1,2),(3,5),(4,2),(6,2)]))\n"
   ]
  },
  {
   "cell_type": "code",
   "execution_count": 7,
   "id": "466c104d",
   "metadata": {},
   "outputs": [
    {
     "name": "stdout",
     "output_type": "stream",
     "text": [
      "(1, 2, 3, 8, 3)\n"
     ]
    },
    {
     "data": {
      "text/plain": [
       "tuple"
      ]
     },
     "execution_count": 7,
     "metadata": {},
     "output_type": "execute_result"
    }
   ],
   "source": [
    "#write a python program to create a tuple\n",
    "tuple=(1,2,3,8,3)\n",
    "print(tuple)\n",
    "type(tuple)"
   ]
  },
  {
   "cell_type": "code",
   "execution_count": 10,
   "id": "6363d8b3",
   "metadata": {},
   "outputs": [
    {
     "name": "stdout",
     "output_type": "stream",
     "text": [
      "(1, (2.3+2j), 2.334, 'hello')\n"
     ]
    },
    {
     "data": {
      "text/plain": [
       "tuple"
      ]
     },
     "execution_count": 10,
     "metadata": {},
     "output_type": "execute_result"
    }
   ],
   "source": [
    "#write a python program to create a tuple with different data type\n",
    "tuple=(1,2.3+2j,2.334,\"hello\")\n",
    "print(tuple)\n",
    "type(tuple)"
   ]
  },
  {
   "cell_type": "code",
   "execution_count": 11,
   "id": "21a1d4f3",
   "metadata": {},
   "outputs": [
    {
     "name": "stdout",
     "output_type": "stream",
     "text": [
      "element is not present in tuple\n"
     ]
    }
   ],
   "source": [
    "#write a python program to check whether an element exists within a tuple\n",
    "tuple=(1,2,4,7,\"hello\",2+4j,\"eat\")\n",
    "if 3 in tuple:\n",
    "    print(\"element is present in tuple\")\n",
    "else:\n",
    "    print(\"element is not present in tuple\")"
   ]
  },
  {
   "cell_type": "code",
   "execution_count": 12,
   "id": "23500a69",
   "metadata": {},
   "outputs": [
    {
     "name": "stdout",
     "output_type": "stream",
     "text": [
      "{1, 2, 4, 7, 8}\n"
     ]
    },
    {
     "data": {
      "text/plain": [
       "set"
      ]
     },
     "execution_count": 12,
     "metadata": {},
     "output_type": "execute_result"
    }
   ],
   "source": [
    "#write a python program to create a set\n",
    "set={1,2,4,7,8}\n",
    "print(set)\n",
    "type(set)"
   ]
  },
  {
   "cell_type": "code",
   "execution_count": 1,
   "id": "948f3997",
   "metadata": {},
   "outputs": [
    {
     "name": "stdout",
     "output_type": "stream",
     "text": [
      "{1, 2, 4, 7, 8}\n",
      "1 2 4 7 8 "
     ]
    }
   ],
   "source": [
    "#write a python program to iterate over sets\n",
    "set={1,2,4,7,8}\n",
    "print(set)\n",
    "for i in set:\n",
    "    print(i,end=\" \")"
   ]
  },
  {
   "cell_type": "code",
   "execution_count": 4,
   "id": "c9961298",
   "metadata": {},
   "outputs": [
    {
     "name": "stdout",
     "output_type": "stream",
     "text": [
      "original sets are::\n",
      "{'pink', 'yellow', 'blue', 'green'}\n",
      "{'yellow', 'red', 'black', 'green', 'cyan'}\n",
      "difference  btween first set and second set:: {'pink', 'blue'}\n",
      "difference between second and first set:: {'black', 'red', 'cyan'}\n"
     ]
    }
   ],
   "source": [
    "#write a python program to create set difference\n",
    "set_1={\"blue\",\"green\",\"pink\",\"yellow\"}\n",
    "set_2={\"cyan\",\"red\",\"green\",\"black\",\"yellow\"}\n",
    "print(\"original sets are::\")\n",
    "print(set_1)\n",
    "print(set_2)\n",
    "difference=set_1.difference(set_2)\n",
    "print(\"difference  btween first set and second set::\",difference)\n",
    "difference=set_2.difference(set_1)\n",
    "print(\"difference between second and first set::\",difference)"
   ]
  },
  {
   "cell_type": "code",
   "execution_count": 8,
   "id": "f5528543",
   "metadata": {},
   "outputs": [
    {
     "name": "stdout",
     "output_type": "stream",
     "text": [
      "{4: 1, 5: 4, 1: 8}\n"
     ]
    }
   ],
   "source": [
    "#write a python script to sort (ascending and descending )a dictionary by values\n",
    "dictionary={5:4,1:8,4:1}\n",
    "sorted_dictionary={key: value for key, value in sorted(dictionary.items(), key=lambda item: item[1])}\n",
    "\n",
    "print(sorted_dictionary)"
   ]
  },
  {
   "cell_type": "code",
   "execution_count": 9,
   "id": "90ae702d",
   "metadata": {},
   "outputs": [
    {
     "name": "stdout",
     "output_type": "stream",
     "text": [
      "{0: 10, 1: 20}\n",
      "{0: 10, 1: 20, 2: 30}\n"
     ]
    }
   ],
   "source": [
    "#write a python script to add a key to a dictionary\n",
    "dictionary = {0:10, 1:20}\n",
    "print(dictionary)\n",
    "dictionary.update({2:30})\n",
    "print(dictionary)\n"
   ]
  },
  {
   "cell_type": "code",
   "execution_count": 19,
   "id": "bbec0146",
   "metadata": {},
   "outputs": [
    {
     "name": "stdout",
     "output_type": "stream",
     "text": [
      "salary1\n",
      "salary2\n",
      "salary3\n",
      "salary4\n"
     ]
    }
   ],
   "source": [
    "#write a python program to iterate over dictionaries using for loop\n",
    "dictionary={\"salary1\":30000,\"salary2\":10000,\"salary3\":40000,\"salary4\":20000}\n",
    "for i in dictionary:\n",
    "    print(i)\n"
   ]
  },
  {
   "cell_type": "code",
   "execution_count": 10,
   "id": "a70585ea",
   "metadata": {},
   "outputs": [
    {
     "name": "stdout",
     "output_type": "stream",
     "text": [
      "[2, 4, 5, 10, 20]\n"
     ]
    }
   ],
   "source": [
    "#setb\n",
    "#write a python program to remove duplication from list\n",
    "duplicate=[2,4,10,20,5,2,20,4]\n",
    "print(list(set(duplicate)))\n"
   ]
  },
  {
   "cell_type": "code",
   "execution_count": 11,
   "id": "fe60c54e",
   "metadata": {},
   "outputs": [
    {
     "name": "stdout",
     "output_type": "stream",
     "text": [
      "non empty\n"
     ]
    }
   ],
   "source": [
    "#write a python program to check a list is empty or not\n",
    "list=['knowlage','practice','learn']\n",
    "if len(list)>0 :\n",
    "    print(\"non empty\")\n",
    "else:\n",
    "    print(\"empty\")\n"
   ]
  },
  {
   "cell_type": "code",
   "execution_count": 36,
   "id": "e61a5bf0",
   "metadata": {},
   "outputs": [],
   "source": [
    "#write a python program to convert a list to a tuple\n",
    "listx =[1, 2, 3, 4]\n",
    "print(list)\n",
    "tuple=tuple(listx)\n",
    "print(tuple)\n"
   ]
  },
  {
   "cell_type": "code",
   "execution_count": 33,
   "id": "86836285",
   "metadata": {},
   "outputs": [
    {
     "name": "stdout",
     "output_type": "stream",
     "text": [
      "tuple:: ('learn', 'practice', 'knowlage')\n",
      "after removing tuple is:: ('learn', 'knowlage')\n"
     ]
    }
   ],
   "source": [
    "#write a python program to remove an item from a tuple\n",
    "tuple=('learn','practice','knowlage')\n",
    "print(\"tuple::\",tuple)\n",
    "tuple=tuple[:1]+tuple[2:]\n",
    "print(\"after removing tuple is::\",tuple)"
   ]
  },
  {
   "cell_type": "code",
   "execution_count": 34,
   "id": "b38a3309",
   "metadata": {},
   "outputs": [
    {
     "name": "stdout",
     "output_type": "stream",
     "text": [
      "('learn', 'practice', 'knowlage')\n",
      "practice\n",
      "('knowlage', 'programming')\n"
     ]
    }
   ],
   "source": [
    "#write python program to slice a tuple\n",
    "tuple=('learn','practice','knowlage','programming')\n",
    "print(tuple[:3])\n",
    "print(tuple[1])\n",
    "print(tuple[2:])"
   ]
  },
  {
   "cell_type": "code",
   "execution_count": 35,
   "id": "15a05f09",
   "metadata": {},
   "outputs": [
    {
     "name": "stdout",
     "output_type": "stream",
     "text": [
      "4\n"
     ]
    }
   ],
   "source": [
    "#write a pytrhon program to find the length of tuple\n",
    "tuple=('learn','practice','knowlage','programming')\n",
    "print(len(tuple))"
   ]
  },
  {
   "cell_type": "code",
   "execution_count": 37,
   "id": "a49919d6",
   "metadata": {},
   "outputs": [
    {
     "name": "stdout",
     "output_type": "stream",
     "text": [
      "x:  {'mango', 'apple'}\n",
      "y:  {'mango', 'orange'}\n",
      "z:  {'mango'} \n",
      "\n",
      "If x is subset of y\n",
      "False\n",
      "False\n",
      "If y is subset of x\n",
      "False\n",
      "False\n",
      "\n",
      "If y is subset of z\n",
      "False\n",
      "False\n",
      "If z is subset of y\n",
      "True\n",
      "True\n"
     ]
    }
   ],
   "source": [
    "#write a python program to check if a set is a subset of another set\n",
    "setx = set([\"apple\", \"mango\"])\n",
    "sety = set([\"mango\", \"orange\"])\n",
    "setz = set([\"mango\"])\n",
    "print(\"x: \",setx)\n",
    "print(\"y: \",sety)\n",
    "print(\"z: \",setz,\"\\n\")\n",
    "print(\"If x is subset of y\")\n",
    "print(setx <= sety)\n",
    "print(setx.issubset(sety))\n",
    "print(\"If y is subset of x\")\n",
    "print(sety <= setx)\n",
    "print(sety.issubset(setx))\n",
    "print(\"\\nIf y is subset of z\")\n",
    "print(sety <= setz)\n",
    "print(sety.issubset(setz))\n",
    "print(\"If z is subset of y\")\n",
    "print(setz <= sety)\n",
    "print(setz.issubset(sety))\n",
    "\n"
   ]
  },
  {
   "cell_type": "code",
   "execution_count": 43,
   "id": "8d70653b",
   "metadata": {},
   "outputs": [],
   "source": [
    "#write a python program to find maximum and minimum value of set\n",
    "set = {5, 10, 3, 15, 2, 20}\n",
    "print(\"Original set elements:\")\n",
    "print(set)\n",
    "print(type(set))\n",
    "print(\"\\nMaximum value of the set:\")\n",
    "print(max(set))\n",
    "print(\"\\nMinimum value of the set:\")\n",
    "print(min(set))\n",
    "\n"
   ]
  },
  {
   "cell_type": "code",
   "execution_count": 44,
   "id": "4ef7f736",
   "metadata": {},
   "outputs": [
    {
     "name": "stdout",
     "output_type": "stream",
     "text": [
      "6\n"
     ]
    }
   ],
   "source": [
    "#write a python program to find the length of set\n",
    "set = {5, 10, 3, 15, 2, 20}\n",
    "print(len(set))"
   ]
  },
  {
   "cell_type": "code",
   "execution_count": 46,
   "id": "335bbadd",
   "metadata": {},
   "outputs": [],
   "source": [
    "#write a python script to generate and print a dictionary that contains a \n",
    "#number(between 1 and n) in the form(x,x*x)\n",
    "n=input(\"enter a number::\")\n",
    "d=dict()\n",
    "for i in range (i,n+1):\n",
    "    d[i]=i*i\n",
    "print(d)"
   ]
  },
  {
   "cell_type": "code",
   "execution_count": 48,
   "id": "54bb1e39",
   "metadata": {},
   "outputs": [
    {
     "name": "stdout",
     "output_type": "stream",
     "text": [
      "{'name': 'sita', 'age': 20}\n"
     ]
    }
   ],
   "source": [
    "#write a script to merge two dictionary\n",
    "d1 = {'a': 100, 'b': 200}\n",
    "d2 = {'x': 300, 'y': 200}\n",
    "d = d1.copy()\n",
    "d.update(d2)\n",
    "print(d)\n",
    "\n"
   ]
  },
  {
   "cell_type": "code",
   "execution_count": null,
   "id": "5034b701",
   "metadata": {},
   "outputs": [],
   "source": []
  }
 ],
 "metadata": {
  "kernelspec": {
   "display_name": "Python 3 (ipykernel)",
   "language": "python",
   "name": "python3"
  },
  "language_info": {
   "codemirror_mode": {
    "name": "ipython",
    "version": 3
   },
   "file_extension": ".py",
   "mimetype": "text/x-python",
   "name": "python",
   "nbconvert_exporter": "python",
   "pygments_lexer": "ipython3",
   "version": "3.9.12"
  }
 },
 "nbformat": 4,
 "nbformat_minor": 5
}
