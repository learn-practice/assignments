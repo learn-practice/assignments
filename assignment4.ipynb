{
 "cells": [
  {
   "cell_type": "code",
   "execution_count": 8,
   "id": "60c29385",
   "metadata": {},
   "outputs": [
    {
     "name": "stdout",
     "output_type": "stream",
     "text": [
      "hello\n",
      "python programming \n",
      "learn with fun\n",
      "\n"
     ]
    }
   ],
   "source": [
    "#write a python program to read an entire text file\n",
    "f=open(\"abc.txt\")\n",
    "print(f.read())\n",
    "f.close()"
   ]
  },
  {
   "cell_type": "code",
   "execution_count": 9,
   "id": "c1f48dbc",
   "metadata": {},
   "outputs": [
    {
     "name": "stdout",
     "output_type": "stream",
     "text": [
      "words:: 7\n",
      "lines:: 3\n",
      "charecter:: 34\n"
     ]
    }
   ],
   "source": [
    "#write a python program to compute the number of charecters, words and lines in file\n",
    "f=open(\"abc.txt\")\n",
    "s=f.read()\n",
    "char=0\n",
    "word=0\n",
    "for ch in s:\n",
    "    if ch.isalpha():\n",
    "        char=char+1\n",
    "    if ch.isspace():\n",
    "        word=word+1\n",
    "f.close()\n",
    "f=open(\"abc.txt\")\n",
    "l=len(f.readlines())\n",
    "print(\"words::\",word)\n",
    "print(\"lines::\",l)\n",
    "print(\"charecter::\",char)\n"
   ]
  },
  {
   "cell_type": "code",
   "execution_count": 12,
   "id": "0891f050",
   "metadata": {},
   "outputs": [
    {
     "name": "stdout",
     "output_type": "stream",
     "text": [
      "current date and time\n",
      "2022 12 04 03:39:56\n"
     ]
    }
   ],
   "source": [
    "#write a python script to print the currentn date in following format\"sun may 29 02:26:23\"\n",
    "import datetime\n",
    "now=datetime.datetime.now()\n",
    "print(\"current date and time\")\n",
    "print(now.strftime(\"%Y %m %d %H:%M:%S\"))#IT RETURNS THE SYSTEM'S TIME"
   ]
  },
  {
   "cell_type": "code",
   "execution_count": 13,
   "id": "e33dd7c7",
   "metadata": {},
   "outputs": [
    {
     "name": "stdout",
     "output_type": "stream",
     "text": [
      "enter string to append::attitude\n",
      "hello\n",
      "python programming \n",
      "learn with fun\n",
      "attitude\n"
     ]
    }
   ],
   "source": [
    "#write a python program to append text to a file and display the text\n",
    "f=open(\"abc.txt\",\"a\")\n",
    "s=input(\"enter string to append::\")\n",
    "f.write(s)\n",
    "f.close()\n",
    "f=open(\"abc.txt\")\n",
    "print(f.read())"
   ]
  },
  {
   "cell_type": "code",
   "execution_count": 15,
   "id": "5320318b",
   "metadata": {},
   "outputs": [
    {
     "name": "stdout",
     "output_type": "stream",
     "text": [
      "\n",
      " o l l e h\n",
      "\n",
      "   g n i m m a r g o r p   n o h t y p\n",
      "\n",
      " n u f   h t i w   n r a e l\n",
      "e d u t i t t a\n"
     ]
    }
   ],
   "source": [
    "#write a python program to print each line of file in reverse order\n",
    "f=open(\"abc.txt\")\n",
    "for line in f:\n",
    "    s1=\" \".join(reversed(line))\n",
    "    print(s1)\n",
    "f.close()"
   ]
  },
  {
   "cell_type": "code",
   "execution_count": 16,
   "id": "182b313d",
   "metadata": {},
   "outputs": [
    {
     "name": "stdout",
     "output_type": "stream",
     "text": [
      "current date and time\n",
      "2022 12 04 03:49:49\n"
     ]
    }
   ],
   "source": [
    "#write a python program to print date ,time for today and now\n",
    "import datetime\n",
    "now=datetime.datetime.now()\n",
    "print(\"current date and time\")\n",
    "print(now.strftime(\"%Y %m %d %H:%M:%S\"))#IT RETURNS THE SYSTEM'S TIME"
   ]
  },
  {
   "cell_type": "code",
   "execution_count": null,
   "id": "9aebc123",
   "metadata": {},
   "outputs": [],
   "source": []
  }
 ],
 "metadata": {
  "kernelspec": {
   "display_name": "Python 3 (ipykernel)",
   "language": "python",
   "name": "python3"
  },
  "language_info": {
   "codemirror_mode": {
    "name": "ipython",
    "version": 3
   },
   "file_extension": ".py",
   "mimetype": "text/x-python",
   "name": "python",
   "nbconvert_exporter": "python",
   "pygments_lexer": "ipython3",
   "version": "3.9.12"
  }
 },
 "nbformat": 4,
 "nbformat_minor": 5
}
